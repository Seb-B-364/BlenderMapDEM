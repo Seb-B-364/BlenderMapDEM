{
 "cells": [
  {
   "cell_type": "markdown",
   "id": "09bd9f22-ed16-4d39-a696-dd509febde4c",
   "metadata": {},
   "source": [
    "<h1 align=\"center\">BlenderMapDEM Workflow Demonstration</h3>\n",
    "\n",
    "## What is this File?\n",
    "This file is meant to be used as a demonstration showing how to utilize the functions within this `BlenderMapDEM` package in a cohesive manner in order to fetch DEM data of any extent and render it using Blender.\n",
    "\n",
    "The demonstration seen in this file assumes that the package has already been installed properly as specified in the [installation]() section of the main `README.md` file. This process entails installing the package through git and copying the `renderDEM.py` file to Blender's module folder.\n",
    "\n",
    "## Workflow Demonstration\n",
    "The workflow for using these functions can be divided into two stages. In the first stage you fetch a .geotiff image and perform geospatial operations on it that make use of its geographic metadata. In the second stage you convert this .geotiff into an image and prepare it for rendering inside Blender.\n",
    "\n",
    "### Stage 1: Fetching .geotiff DEM Image\n",
    "\n",
    "Begin by importing `BlenderMapDEM` and use `fetchDEM()` to get a .geotiff raster image of a chosen DEM extent saved to a specified directory. All directories within this demonstration will be relative to this `demo/` folder within the repository.\n",
    "    \n",
    "This .geotiff file, while not viewable in standard image editors and Blender at this stage, is able be manipulated and explored using geospatial operations that make use of its metadata.\n",
    "\n"
   ]
  },
  {
   "cell_type": "code",
   "execution_count": 7,
   "id": "60e577dd-052c-4bc9-b409-3e22fb1ee5de",
   "metadata": {},
   "outputs": [],
   "source": [
    "# Import package\n",
    "from BlenderMapDEM import *"
   ]
  },
  {
   "cell_type": "code",
   "execution_count": 5,
   "id": "874f0d19-f9eb-4c95-938c-cfbe4c52f372",
   "metadata": {},
   "outputs": [],
   "source": [
    "# Get DEM map using fetchDEM()\n",
    "fetchDEM(north_bound = 13.35,\n",
    "         south_bound = 13.04,\n",
    "         east_bound = -59.40,\n",
    "         west_bound = -59.68,\n",
    "         API_Key = '7da2375367b589517231f8fee1ae6b7c', # Input API key\n",
    "         dataset = 'SRTMGL1', # Specify DEM dataset, in this case SRTM 30m resolution\n",
    "         output_dir = './data/BarbadosDEM.tif') # Specify output directory for map"
   ]
  },
  {
   "cell_type": "markdown",
   "id": "c0402191-2188-49ae-b5df-76a9eeca287b",
   "metadata": {},
   "source": [
    "This .geotiff DEM file can now be opened in GIS software, however there is still work to be done to prepare the DEM for input into Blender.\n",
    "\n",
    "![alt text](imgs/qgis.png \"DEM openned in QGIS\")"
   ]
  },
  {
   "cell_type": "markdown",
   "id": "0a03a01b-48ba-4d32-96e8-fe204842c55e",
   "metadata": {},
   "source": [
    "(Optional) use the generated .geotiff image to perform a variety of tasks to manipulate or better understand the data such as:\n",
    "   \n",
    "- Use `plotDEM()` to quickly visualize the data to get a general overview\n",
    "- Use `describeDEM()` to describe the data and display key information\n",
    "- Use `clipDEM()` to clip a section of the .geotiff according to shapefile geometry"
   ]
  },
  {
   "cell_type": "code",
   "execution_count": 6,
   "id": "99caf907-e82a-4bea-8fe9-967b20d598c5",
   "metadata": {},
   "outputs": [
    {
     "ename": "NameError",
     "evalue": "name 'plotDEM' is not defined",
     "output_type": "error",
     "traceback": [
      "\u001b[1;31m---------------------------------------------------------------------------\u001b[0m",
      "\u001b[1;31mNameError\u001b[0m                                 Traceback (most recent call last)",
      "Cell \u001b[1;32mIn[6], line 2\u001b[0m\n\u001b[0;32m      1\u001b[0m \u001b[38;5;66;03m# Plot DEM to get a general over view of it\u001b[39;00m\n\u001b[1;32m----> 2\u001b[0m \u001b[43mplotDEM\u001b[49m(\u001b[38;5;124m'\u001b[39m\u001b[38;5;124m./data/BarbadosDEM.tif\u001b[39m\u001b[38;5;124m'\u001b[39m)\n",
      "\u001b[1;31mNameError\u001b[0m: name 'plotDEM' is not defined"
     ]
    }
   ],
   "source": [
    "# Using plotDEM() to get a general overview of the DEM file visually\n",
    "plotDEM('./data/BarbadosDEM.tif')"
   ]
  },
  {
   "cell_type": "code",
   "execution_count": null,
   "id": "dce23e86-488d-427a-ad7d-2f02805981be",
   "metadata": {},
   "outputs": [],
   "source": [
    "# Using describeDEM() to get key information about the DEM file\n",
    "describeDEM('./data/BarbadosDEM.tif')"
   ]
  },
  {
   "cell_type": "markdown",
   "id": "5cc33cc2-b725-4b3b-84cc-b2d6f05a6778",
   "metadata": {},
   "source": [
    "### Stage 2: Converting .geotiff to Image and Render using Blender\n",
    "\n",
    "While you could open up the DEM .geotiff file in any GIS software and export as an image, this is tedious and requires extra effort for a task that could be automated!\n",
    "\n",
    "Use `geotiffToImage()` to convert the .geotiff DEM file into an image format that is readable by Blender\n"
   ]
  },
  {
   "cell_type": "code",
   "execution_count": 8,
   "id": "0657a0c2-4ab6-48e4-b2fe-01ef66ec6b8d",
   "metadata": {},
   "outputs": [
    {
     "ename": "NameError",
     "evalue": "name 'geotiffToImage' is not defined",
     "output_type": "error",
     "traceback": [
      "\u001b[1;31m---------------------------------------------------------------------------\u001b[0m",
      "\u001b[1;31mNameError\u001b[0m                                 Traceback (most recent call last)",
      "Cell \u001b[1;32mIn[8], line 2\u001b[0m\n\u001b[0;32m      1\u001b[0m \u001b[38;5;66;03m# Using geotiffToImage() to generate viewable image file from .geotiff DEM file\u001b[39;00m\n\u001b[1;32m----> 2\u001b[0m \u001b[43mgeotiffToImage\u001b[49m(\u001b[38;5;124m'\u001b[39m\u001b[38;5;124m./data/BarbadosDEM.tif\u001b[39m\u001b[38;5;124m'\u001b[39m, \u001b[38;5;124m'\u001b[39m\u001b[38;5;124m./data/BarbadosDEM_image.png\u001b[39m\u001b[38;5;124m'\u001b[39m)\n",
      "\u001b[1;31mNameError\u001b[0m: name 'geotiffToImage' is not defined"
     ]
    }
   ],
   "source": [
    "# Using geotiffToImage() to generate viewable image file from .geotiff DEM file\n",
    "geotiffToImage('./data/BarbadosDEM.tif', './data/BarbadosDEM_image.png')"
   ]
  },
  {
   "cell_type": "markdown",
   "id": "b063c2fc-7d6b-44f7-90f2-5259baf2e50d",
   "metadata": {},
   "source": [
    "(Optional) use `simplifyDEM()` to downscale the image file to a lower resolution which lessens the resource requirements of your computer when rendering an image (a 2000x2000 pixel image is easier to render than a 5000x5000 pixel image)\n",
    "\n",
    "Ideally you should not use this function to retain the highest quality however it can be helpful depending on the computer to speed up render times."
   ]
  },
  {
   "cell_type": "code",
   "execution_count": null,
   "id": "fed5dcdc-c0bc-4cf5-8845-67aeb5cd3409",
   "metadata": {},
   "outputs": [],
   "source": [
    "# Using simplifyDEM() to downscale DEM image file to lower resolution\n",
    "simplifyDEM(dem_dir = './data/BarbadosDEM_image.png',\n",
    "            output_dir = './data/BarbadosDEM_image_downscaled.png',\n",
    "            reduction_factor = 2) # This result in an image with half the original resolution"
   ]
  },
  {
   "cell_type": "markdown",
   "id": "8b1404af-5c0f-4fab-956c-ef9a6c431ed9",
   "metadata": {},
   "source": [
    "Use `renderDEM()` **in a separate python script** that will be fed into Blender (using the console in this demonstration) to produce the final rendered hillshade map.\n",
    "\n",
    "\n",
    "From `demo_render.py` file:\n",
    "```Python\n",
    "# This file will be fed into Blender in order to render our map\n",
    "\n",
    "# Import renderDEM() module added to Blender's module folder\n",
    "from renderDEM import *\n",
    "\n",
    "# Call renderDEM() function to generate rendered map (remember that Blender requires absolute paths)\n",
    "renderDEM(dem_dir = 'C:/Home/Documents/BlenderMapDEM/demo/data/BarbadosDEM_image.png',\n",
    "\t\t  output_dir = 'C:/Home/Documents/BlenderMapDEM/demo/data/Barbados_render.png',\n",
    "\t\t  exaggeration = 1, # Specify topographic exaggeration\n",
    "\t\t  shadow_softness = 90, # Specify shadow softness of light source\n",
    "\t\t  sun_angle = 45, # Specify vertical angle of light source\n",
    "\t\t  resolution_scale = 100, # Specify final resolution scale in relation to input DEM\n",
    "\t\t  samples = 20 # Specify samples for final render quality\n",
    "\t\t  )\n",
    "\n",
    "# End of file\n",
    "```"
   ]
  }
 ],
 "metadata": {
  "kernelspec": {
   "display_name": "Python 3 (ipykernel)",
   "language": "python",
   "name": "python3"
  },
  "language_info": {
   "codemirror_mode": {
    "name": "ipython",
    "version": 3
   },
   "file_extension": ".py",
   "mimetype": "text/x-python",
   "name": "python",
   "nbconvert_exporter": "python",
   "pygments_lexer": "ipython3",
   "version": "3.9.1"
  }
 },
 "nbformat": 4,
 "nbformat_minor": 5
}
